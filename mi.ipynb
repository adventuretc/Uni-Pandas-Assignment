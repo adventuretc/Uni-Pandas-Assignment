{
 "cells": [
  {
   "cell_type": "code",
   "execution_count": 100,
   "metadata": {},
   "outputs": [],
   "source": [
    "import pandas as pd\n",
    "import numpy as np\n",
    "import matplotlib.pyplot as plt"
   ]
  },
  {
   "cell_type": "code",
   "execution_count": null,
   "metadata": {},
   "outputs": [],
   "source": []
  },
  {
   "cell_type": "code",
   "execution_count": 101,
   "metadata": {},
   "outputs": [],
   "source": [
    "dataframe = pd.read_csv('Top-50-musicality-global.csv')"
   ]
  },
  {
   "cell_type": "code",
   "execution_count": 102,
   "metadata": {},
   "outputs": [
    {
     "data": {
      "text/html": [
       "<div>\n",
       "<style scoped>\n",
       "    .dataframe tbody tr th:only-of-type {\n",
       "        vertical-align: middle;\n",
       "    }\n",
       "\n",
       "    .dataframe tbody tr th {\n",
       "        vertical-align: top;\n",
       "    }\n",
       "\n",
       "    .dataframe thead th {\n",
       "        text-align: right;\n",
       "    }\n",
       "</style>\n",
       "<table border=\"1\" class=\"dataframe\">\n",
       "  <thead>\n",
       "    <tr style=\"text-align: right;\">\n",
       "      <th></th>\n",
       "      <th>Unnamed: 0</th>\n",
       "      <th>Popularity</th>\n",
       "      <th>Danceability</th>\n",
       "      <th>Acousticness</th>\n",
       "      <th>duration</th>\n",
       "      <th>Energy</th>\n",
       "      <th>Instrumentalness</th>\n",
       "      <th>Key</th>\n",
       "      <th>Liveness</th>\n",
       "      <th>Loudness</th>\n",
       "      <th>Mode</th>\n",
       "      <th>Speechiness</th>\n",
       "      <th>Tempo</th>\n",
       "      <th>TSignature</th>\n",
       "      <th>Positiveness</th>\n",
       "    </tr>\n",
       "  </thead>\n",
       "  <tbody>\n",
       "    <tr>\n",
       "      <th>count</th>\n",
       "      <td>3589.000000</td>\n",
       "      <td>3589.000000</td>\n",
       "      <td>3589.000000</td>\n",
       "      <td>3589.000000</td>\n",
       "      <td>3589.000000</td>\n",
       "      <td>3589.000000</td>\n",
       "      <td>3589.000000</td>\n",
       "      <td>3589.000000</td>\n",
       "      <td>3589.000000</td>\n",
       "      <td>3589.000000</td>\n",
       "      <td>3589.000000</td>\n",
       "      <td>3589.000000</td>\n",
       "      <td>3589.000000</td>\n",
       "      <td>3589.000000</td>\n",
       "      <td>3589.000000</td>\n",
       "    </tr>\n",
       "    <tr>\n",
       "      <th>mean</th>\n",
       "      <td>1794.000000</td>\n",
       "      <td>78.451101</td>\n",
       "      <td>0.688079</td>\n",
       "      <td>0.285637</td>\n",
       "      <td>193871.083031</td>\n",
       "      <td>0.646463</td>\n",
       "      <td>0.019187</td>\n",
       "      <td>5.348008</td>\n",
       "      <td>0.171895</td>\n",
       "      <td>-6.616918</td>\n",
       "      <td>0.503483</td>\n",
       "      <td>0.105122</td>\n",
       "      <td>121.027742</td>\n",
       "      <td>3.906659</td>\n",
       "      <td>0.528968</td>\n",
       "    </tr>\n",
       "    <tr>\n",
       "      <th>std</th>\n",
       "      <td>1036.199386</td>\n",
       "      <td>15.242710</td>\n",
       "      <td>0.135642</td>\n",
       "      <td>0.258611</td>\n",
       "      <td>47673.155605</td>\n",
       "      <td>0.163505</td>\n",
       "      <td>0.094564</td>\n",
       "      <td>3.494953</td>\n",
       "      <td>0.123540</td>\n",
       "      <td>2.658782</td>\n",
       "      <td>0.500058</td>\n",
       "      <td>0.097852</td>\n",
       "      <td>27.624052</td>\n",
       "      <td>0.433971</td>\n",
       "      <td>0.228932</td>\n",
       "    </tr>\n",
       "    <tr>\n",
       "      <th>min</th>\n",
       "      <td>0.000000</td>\n",
       "      <td>0.000000</td>\n",
       "      <td>0.244000</td>\n",
       "      <td>0.000008</td>\n",
       "      <td>61673.000000</td>\n",
       "      <td>0.024200</td>\n",
       "      <td>0.000000</td>\n",
       "      <td>0.000000</td>\n",
       "      <td>0.015400</td>\n",
       "      <td>-19.518000</td>\n",
       "      <td>0.000000</td>\n",
       "      <td>0.023200</td>\n",
       "      <td>60.038000</td>\n",
       "      <td>1.000000</td>\n",
       "      <td>0.037300</td>\n",
       "    </tr>\n",
       "    <tr>\n",
       "      <th>25%</th>\n",
       "      <td>897.000000</td>\n",
       "      <td>67.000000</td>\n",
       "      <td>0.596000</td>\n",
       "      <td>0.079600</td>\n",
       "      <td>162768.000000</td>\n",
       "      <td>0.543000</td>\n",
       "      <td>0.000000</td>\n",
       "      <td>2.000000</td>\n",
       "      <td>0.097400</td>\n",
       "      <td>-8.065000</td>\n",
       "      <td>0.000000</td>\n",
       "      <td>0.039900</td>\n",
       "      <td>99.904000</td>\n",
       "      <td>4.000000</td>\n",
       "      <td>0.359000</td>\n",
       "    </tr>\n",
       "    <tr>\n",
       "      <th>50%</th>\n",
       "      <td>1794.000000</td>\n",
       "      <td>83.000000</td>\n",
       "      <td>0.706000</td>\n",
       "      <td>0.188000</td>\n",
       "      <td>187027.000000</td>\n",
       "      <td>0.669000</td>\n",
       "      <td>0.000001</td>\n",
       "      <td>5.000000</td>\n",
       "      <td>0.120000</td>\n",
       "      <td>-6.238000</td>\n",
       "      <td>1.000000</td>\n",
       "      <td>0.063300</td>\n",
       "      <td>118.024000</td>\n",
       "      <td>4.000000</td>\n",
       "      <td>0.524000</td>\n",
       "    </tr>\n",
       "    <tr>\n",
       "      <th>75%</th>\n",
       "      <td>2691.000000</td>\n",
       "      <td>90.000000</td>\n",
       "      <td>0.795000</td>\n",
       "      <td>0.441000</td>\n",
       "      <td>219724.000000</td>\n",
       "      <td>0.762000</td>\n",
       "      <td>0.000089</td>\n",
       "      <td>8.000000</td>\n",
       "      <td>0.214000</td>\n",
       "      <td>-4.813000</td>\n",
       "      <td>1.000000</td>\n",
       "      <td>0.131000</td>\n",
       "      <td>139.945000</td>\n",
       "      <td>4.000000</td>\n",
       "      <td>0.720000</td>\n",
       "    </tr>\n",
       "    <tr>\n",
       "      <th>max</th>\n",
       "      <td>3588.000000</td>\n",
       "      <td>100.000000</td>\n",
       "      <td>0.974000</td>\n",
       "      <td>0.984000</td>\n",
       "      <td>641941.000000</td>\n",
       "      <td>0.992000</td>\n",
       "      <td>0.901000</td>\n",
       "      <td>11.000000</td>\n",
       "      <td>0.963000</td>\n",
       "      <td>1.155000</td>\n",
       "      <td>1.000000</td>\n",
       "      <td>0.731000</td>\n",
       "      <td>217.969000</td>\n",
       "      <td>5.000000</td>\n",
       "      <td>0.978000</td>\n",
       "    </tr>\n",
       "  </tbody>\n",
       "</table>\n",
       "</div>"
      ],
      "text/plain": [
       "        Unnamed: 0   Popularity  Danceability  Acousticness       duration  \\\n",
       "count  3589.000000  3589.000000   3589.000000   3589.000000    3589.000000   \n",
       "mean   1794.000000    78.451101      0.688079      0.285637  193871.083031   \n",
       "std    1036.199386    15.242710      0.135642      0.258611   47673.155605   \n",
       "min       0.000000     0.000000      0.244000      0.000008   61673.000000   \n",
       "25%     897.000000    67.000000      0.596000      0.079600  162768.000000   \n",
       "50%    1794.000000    83.000000      0.706000      0.188000  187027.000000   \n",
       "75%    2691.000000    90.000000      0.795000      0.441000  219724.000000   \n",
       "max    3588.000000   100.000000      0.974000      0.984000  641941.000000   \n",
       "\n",
       "            Energy  Instrumentalness          Key     Liveness     Loudness  \\\n",
       "count  3589.000000       3589.000000  3589.000000  3589.000000  3589.000000   \n",
       "mean      0.646463          0.019187     5.348008     0.171895    -6.616918   \n",
       "std       0.163505          0.094564     3.494953     0.123540     2.658782   \n",
       "min       0.024200          0.000000     0.000000     0.015400   -19.518000   \n",
       "25%       0.543000          0.000000     2.000000     0.097400    -8.065000   \n",
       "50%       0.669000          0.000001     5.000000     0.120000    -6.238000   \n",
       "75%       0.762000          0.000089     8.000000     0.214000    -4.813000   \n",
       "max       0.992000          0.901000    11.000000     0.963000     1.155000   \n",
       "\n",
       "              Mode  Speechiness        Tempo   TSignature  Positiveness  \n",
       "count  3589.000000  3589.000000  3589.000000  3589.000000   3589.000000  \n",
       "mean      0.503483     0.105122   121.027742     3.906659      0.528968  \n",
       "std       0.500058     0.097852    27.624052     0.433971      0.228932  \n",
       "min       0.000000     0.023200    60.038000     1.000000      0.037300  \n",
       "25%       0.000000     0.039900    99.904000     4.000000      0.359000  \n",
       "50%       1.000000     0.063300   118.024000     4.000000      0.524000  \n",
       "75%       1.000000     0.131000   139.945000     4.000000      0.720000  \n",
       "max       1.000000     0.731000   217.969000     5.000000      0.978000  "
      ]
     },
     "execution_count": 102,
     "metadata": {},
     "output_type": "execute_result"
    }
   ],
   "source": [
    "dataframe.describe()"
   ]
  },
  {
   "cell_type": "code",
   "execution_count": 103,
   "metadata": {},
   "outputs": [
    {
     "name": "stdout",
     "output_type": "stream",
     "text": [
      "<class 'pandas.core.frame.DataFrame'>\n",
      "RangeIndex: 3589 entries, 0 to 3588\n",
      "Data columns (total 21 columns):\n",
      " #   Column            Non-Null Count  Dtype  \n",
      "---  ------            --------------  -----  \n",
      " 0   Unnamed: 0        3589 non-null   int64  \n",
      " 1   Country           3589 non-null   object \n",
      " 2   Track Name        3583 non-null   object \n",
      " 3   Artist Name       3583 non-null   object \n",
      " 4   Album Name        3583 non-null   object \n",
      " 5   Popularity        3589 non-null   int64  \n",
      " 6   Date              3589 non-null   object \n",
      " 7   Markets           3583 non-null   object \n",
      " 8   Danceability      3589 non-null   float64\n",
      " 9   Acousticness      3589 non-null   float64\n",
      " 10  duration          3589 non-null   int64  \n",
      " 11  Energy            3589 non-null   float64\n",
      " 12  Instrumentalness  3589 non-null   float64\n",
      " 13  Key               3589 non-null   int64  \n",
      " 14  Liveness          3589 non-null   float64\n",
      " 15  Loudness          3589 non-null   float64\n",
      " 16  Mode              3589 non-null   int64  \n",
      " 17  Speechiness       3589 non-null   float64\n",
      " 18  Tempo             3589 non-null   float64\n",
      " 19  TSignature        3589 non-null   int64  \n",
      " 20  Positiveness      3589 non-null   float64\n",
      "dtypes: float64(9), int64(6), object(6)\n",
      "memory usage: 588.9+ KB\n"
     ]
    }
   ],
   "source": [
    "dataframe.info()"
   ]
  },
  {
   "cell_type": "code",
   "execution_count": 104,
   "metadata": {},
   "outputs": [],
   "source": [
    "# Drop Unnamed: 0 as it’s unnecessary.\n",
    "# Handle potential missing values in Country, Track Name, Artist Name, Album Name, and Markets. (see above the number of non-null values)\n",
    "\n",
    "dataframe = dataframe.drop(columns=[\"Unnamed: 0\"])\n",
    "dataframe = dataframe.dropna()\n"
   ]
  },
  {
   "cell_type": "code",
   "execution_count": 105,
   "metadata": {},
   "outputs": [],
   "source": [
    "dataframe['Country'] = pd.Series(dataframe['Country'], dtype=\"string\")\n",
    "dataframe['Track Name'] = pd.Series(dataframe['Country'], dtype=\"string\")\n",
    "dataframe['Artist Name'] = pd.Series(dataframe['Country'], dtype=\"string\")\n",
    "dataframe['Album Name'] = pd.Series(dataframe['Country'], dtype=\"string\")\n",
    "dataframe['Markets'] = pd.Series(dataframe['Country'], dtype=\"string\")\n",
    "\n",
    "# Convert Date to datetime type.\n",
    "dataframe['Date'] = pd.to_datetime(dataframe['Date'], errors='coerce')"
   ]
  },
  {
   "cell_type": "code",
   "execution_count": 106,
   "metadata": {},
   "outputs": [
    {
     "data": {
      "text/plain": [
       "Country             string[python]\n",
       "Track Name          string[python]\n",
       "Artist Name         string[python]\n",
       "Album Name          string[python]\n",
       "Popularity                   int64\n",
       "Date                datetime64[ns]\n",
       "Markets             string[python]\n",
       "Danceability               float64\n",
       "Acousticness               float64\n",
       "duration                     int64\n",
       "Energy                     float64\n",
       "Instrumentalness           float64\n",
       "Key                          int64\n",
       "Liveness                   float64\n",
       "Loudness                   float64\n",
       "Mode                         int64\n",
       "Speechiness                float64\n",
       "Tempo                      float64\n",
       "TSignature                   int64\n",
       "Positiveness               float64\n",
       "dtype: object"
      ]
     },
     "execution_count": 106,
     "metadata": {},
     "output_type": "execute_result"
    }
   ],
   "source": [
    "dataframe.dtypes"
   ]
  },
  {
   "cell_type": "code",
   "execution_count": 107,
   "metadata": {},
   "outputs": [
    {
     "data": {
      "text/plain": [
       "<bound method NDFrame.head of      Country Track Name Artist Name Album Name  Popularity       Date Markets  \\\n",
       "0     Global     Global      Global     Global          91 2023-11-03  Global   \n",
       "1     Global     Global      Global     Global         100 2023-09-15  Global   \n",
       "2     Global     Global      Global     Global          99 2022-09-23  Global   \n",
       "3     Global     Global      Global     Global          82 2023-11-03  Global   \n",
       "4     Global     Global      Global     Global          93 2023-10-26  Global   \n",
       "...      ...        ...         ...        ...         ...        ...     ...   \n",
       "3584     VNM        VNM         VNM        VNM          84 2023-11-03     VNM   \n",
       "3585     VNM        VNM         VNM        VNM          63 2023-08-16     VNM   \n",
       "3586     VNM        VNM         VNM        VNM          83 2023-10-06     VNM   \n",
       "3587     VNM        VNM         VNM        VNM          84 2023-11-03     VNM   \n",
       "3588     VNM        VNM         VNM        VNM          66 2022-07-11     VNM   \n",
       "\n",
       "      Danceability  Acousticness  duration  Energy  Instrumentalness  Key  \\\n",
       "0            0.711        0.0447    206020   0.809          0.000000    2   \n",
       "1            0.750        0.2560    131872   0.733          0.000000    6   \n",
       "2            0.537        0.8270    184061   0.421          0.000000    5   \n",
       "3            0.790        0.3120    183551   0.831          0.000000   11   \n",
       "4            0.596        0.0504    229478   0.658          0.000000    0   \n",
       "...            ...           ...       ...     ...               ...  ...   \n",
       "3584         0.558        0.6110    175912   0.467          0.000000   10   \n",
       "3585         0.443        0.8640    133562   0.371          0.780000    5   \n",
       "3586         0.787        0.0147    179164   0.573          0.000017    9   \n",
       "3587         0.507        0.5080    167247   0.394          0.000000    6   \n",
       "3588         0.626        0.3620    234000   0.503          0.000001    5   \n",
       "\n",
       "      Liveness  Loudness  Mode  Speechiness    Tempo  TSignature  Positiveness  \n",
       "0       0.3390    -4.389     0       0.0955  106.017           4         0.816  \n",
       "1       0.1140    -3.180     0       0.0319  111.018           1         0.844  \n",
       "2       0.1380    -8.720     1       0.0285   98.224           4         0.524  \n",
       "3       0.0797    -4.185     1       0.0440  124.987           4         0.872  \n",
       "4       0.1270    -7.346     1       0.0360  100.012           4         0.176  \n",
       "...        ...       ...   ...          ...      ...         ...           ...  \n",
       "3584    0.1050    -6.292     1       0.0809  100.518           4         0.563  \n",
       "3585    0.4210   -12.080     0       0.0377   92.468           4         0.189  \n",
       "3586    0.0926    -6.197     1       0.0606  111.996           4         0.575  \n",
       "3587    0.0825    -7.188     0       0.0350   77.955           4         0.164  \n",
       "3588    0.0762    -8.753     1       0.0389  140.014           4         0.574  \n",
       "\n",
       "[3583 rows x 20 columns]>"
      ]
     },
     "execution_count": 107,
     "metadata": {},
     "output_type": "execute_result"
    }
   ],
   "source": [
    "dataframe.head"
   ]
  },
  {
   "cell_type": "code",
   "execution_count": 108,
   "metadata": {},
   "outputs": [
    {
     "data": {
      "text/plain": [
       "<bound method NDFrame.head of      Country Track Name Artist Name Album Name  Popularity       Date Markets  \\\n",
       "3112     ZAF        ZAF         ZAF        ZAF         100 2023-09-15     ZAF   \n",
       "3123     ZAF        ZAF         ZAF        ZAF          98 2023-09-01     ZAF   \n",
       "3094     ZAF        ZAF         ZAF        ZAF          95 2023-07-28     ZAF   \n",
       "3119     ZAF        ZAF         ZAF        ZAF          95 2023-06-16     ZAF   \n",
       "3132     ZAF        ZAF         ZAF        ZAF          95 2023-07-13     ZAF   \n",
       "...      ...        ...         ...        ...         ...        ...     ...   \n",
       "816      ARE        ARE         ARE        ARE          82 2023-10-24     ARE   \n",
       "847      ARE        ARE         ARE        ARE          82 2014-10-27     ARE   \n",
       "815      ARE        ARE         ARE        ARE          81 2023-04-27     ARE   \n",
       "826      ARE        ARE         ARE        ARE          76 2023-09-22     ARE   \n",
       "839      ARE        ARE         ARE        ARE          71 2023-10-19     ARE   \n",
       "\n",
       "      Danceability  Acousticness  duration  Energy  Instrumentalness  Key  \\\n",
       "3112         0.750       0.25600    131872  0.7330          0.000000    6   \n",
       "3123         0.628       0.70100    172965  0.5230          0.002740   11   \n",
       "3094         0.673       0.08560    200256  0.7220          0.000000    3   \n",
       "3119         0.847       0.11900    125040  0.6220          0.000000    1   \n",
       "3132         0.444       0.95900    222370  0.0911          0.000001    0   \n",
       "...            ...           ...       ...     ...               ...  ...   \n",
       "816          0.724       0.00196    139200  0.8510          0.038000    4   \n",
       "847          0.753       0.08500    231827  0.6780          0.000002    5   \n",
       "815          0.799       0.42900    239318  0.8020          0.001280   11   \n",
       "826          0.480       0.52600    284812  0.5710          0.000213    7   \n",
       "839          0.623       0.00735    229677  0.8720          0.000000    6   \n",
       "\n",
       "      Liveness  Loudness  Mode  Speechiness    Tempo  TSignature  Positiveness  \n",
       "3112    0.1140    -3.180     0       0.0319  111.018           1         0.844  \n",
       "3123    0.2190    -8.307     0       0.0946  169.982           4         0.416  \n",
       "3094    0.1370    -3.495     0       0.0755  117.187           4         0.519  \n",
       "3119    0.2850    -6.747     0       0.0903  130.001           4         0.220  \n",
       "3132    0.0980   -17.665     1       0.0307   78.403           4         0.142  \n",
       "...        ...       ...   ...          ...      ...         ...           ...  \n",
       "816     0.0513    -6.068     0       0.0297   99.998           4         0.810  \n",
       "847     0.1300    -5.421     1       0.0644   96.006           4         0.583  \n",
       "815     0.1710    -5.196     1       0.0371  107.008           4         0.811  \n",
       "826     0.2320    -7.818     1       0.0420  146.051           4         0.257  \n",
       "839     0.3780    -5.192     1       0.0817   93.019           4         0.545  \n",
       "\n",
       "[3583 rows x 20 columns]>"
      ]
     },
     "execution_count": 108,
     "metadata": {},
     "output_type": "execute_result"
    }
   ],
   "source": [
    "dataframe.sort_values(['Country', 'Artist Name', 'Album Name', 'Popularity'], ascending=False, inplace=True)\n",
    "dataframe.head"
   ]
  },
  {
   "cell_type": "code",
   "execution_count": 109,
   "metadata": {},
   "outputs": [
    {
     "data": {
      "text/plain": [
       "Country              0\n",
       "Track Name           0\n",
       "Artist Name          0\n",
       "Album Name           0\n",
       "Popularity           0\n",
       "Date                15\n",
       "Markets              0\n",
       "Danceability         0\n",
       "Acousticness         0\n",
       "duration             0\n",
       "Energy               0\n",
       "Instrumentalness     0\n",
       "Key                  0\n",
       "Liveness             0\n",
       "Loudness             0\n",
       "Mode                 0\n",
       "Speechiness          0\n",
       "Tempo                0\n",
       "TSignature           0\n",
       "Positiveness         0\n",
       "dtype: int64"
      ]
     },
     "execution_count": 109,
     "metadata": {},
     "output_type": "execute_result"
    }
   ],
   "source": [
    "dataframe.isnull().sum()"
   ]
  },
  {
   "cell_type": "code",
   "execution_count": 110,
   "metadata": {},
   "outputs": [],
   "source": [
    "dataframe.dropna(inplace = True)"
   ]
  },
  {
   "cell_type": "code",
   "execution_count": 111,
   "metadata": {},
   "outputs": [
    {
     "data": {
      "text/plain": [
       "count    540.000000\n",
       "mean       6.607407\n",
       "std        7.949139\n",
       "min        1.000000\n",
       "25%        2.000000\n",
       "50%        4.000000\n",
       "75%        8.000000\n",
       "max       57.000000\n",
       "Name: count, dtype: float64"
      ]
     },
     "execution_count": 111,
     "metadata": {},
     "output_type": "execute_result"
    }
   ],
   "source": [
    "dataframe['Danceability'].value_counts().describe()"
   ]
  },
  {
   "cell_type": "code",
   "execution_count": 112,
   "metadata": {},
   "outputs": [
    {
     "data": {
      "text/plain": [
       "count    748.000000\n",
       "mean       4.770053\n",
       "std        6.013199\n",
       "min        1.000000\n",
       "25%        1.000000\n",
       "50%        3.000000\n",
       "75%        5.000000\n",
       "max       47.000000\n",
       "Name: count, dtype: float64"
      ]
     },
     "execution_count": 112,
     "metadata": {},
     "output_type": "execute_result"
    }
   ],
   "source": [
    "dataframe['Positiveness'].value_counts().describe()"
   ]
  },
  {
   "cell_type": "code",
   "execution_count": 113,
   "metadata": {},
   "outputs": [],
   "source": [
    "import seaborn as sns"
   ]
  },
  {
   "cell_type": "code",
   "execution_count": 114,
   "metadata": {},
   "outputs": [
    {
     "data": {
      "text/plain": [
       "-0.042328313980036614"
      ]
     },
     "execution_count": 114,
     "metadata": {},
     "output_type": "execute_result"
    }
   ],
   "source": [
    "dataframe['Popularity'].corr(dataframe['Danceability'])"
   ]
  },
  {
   "cell_type": "code",
   "execution_count": 115,
   "metadata": {},
   "outputs": [
    {
     "data": {
      "text/plain": [
       "-0.035046830428521414"
      ]
     },
     "execution_count": 115,
     "metadata": {},
     "output_type": "execute_result"
    }
   ],
   "source": [
    "dataframe['Popularity'].corr(dataframe['Positiveness'])"
   ]
  },
  {
   "cell_type": "code",
   "execution_count": 116,
   "metadata": {},
   "outputs": [
    {
     "data": {
      "text/plain": [
       "-0.012568648205124404"
      ]
     },
     "execution_count": 116,
     "metadata": {},
     "output_type": "execute_result"
    }
   ],
   "source": [
    "dataframe['Popularity'].corr(dataframe['Tempo'])"
   ]
  },
  {
   "cell_type": "code",
   "execution_count": 117,
   "metadata": {},
   "outputs": [
    {
     "data": {
      "text/plain": [
       "<AxesSubplot: >"
      ]
     },
     "execution_count": 117,
     "metadata": {},
     "output_type": "execute_result"
    },
    {
     "data": {
      "image/png": "[encoded data removed]",
      "text/plain": [
       "<Figure size 640x480 with 2 Axes>"
      ]
     },
     "metadata": {},
     "output_type": "display_data"
    }
   ],
   "source": [
    "sns.heatmap(dataframe[['Popularity', 'Danceability', 'Positiveness', 'Tempo']].corr(method='pearson', min_periods=1))"
   ]
  },
  {
   "cell_type": "markdown",
   "metadata": {},
   "source": [
    "# Analyze the Distribution of Popularity \n",
    "\n",
    "To get a sense of how popularity is distributed."
   ]
  },
  {
   "cell_type": "code",
   "execution_count": 118,
   "metadata": {},
   "outputs": [
    {
     "data": {
      "image/png": "[encoded data removed]",
      "text/plain": [
       "<Figure size 640x480 with 1 Axes>"
      ]
     },
     "metadata": {},
     "output_type": "display_data"
    }
   ],
   "source": [
    "\n",
    "plt.hist(dataframe[\"Popularity\"], bins=20, color=\"blue\", edgecolor=\"black\")\n",
    "plt.xlabel(\"Popularity Score\")\n",
    "plt.ylabel(\"Number of Songs\")\n",
    "plt.title(\"Distribution of Song Popularity\")\n",
    "plt.show()\n"
   ]
  },
  {
   "cell_type": "code",
   "execution_count": null,
   "metadata": {},
   "outputs": [],
   "source": [
    "\n"
   ]
  },
  {
   "cell_type": "code",
   "execution_count": null,
   "metadata": {},
   "outputs": [
    {
     "name": "stdout",
     "output_type": "stream",
     "text": [
      "Before Encoding: Index(['Country', 'Track Name', 'Artist Name', 'Album Name', 'Popularity',\n",
      "       'Date', 'Markets', 'Danceability', 'Acousticness', 'duration', 'Energy',\n",
      "       'Instrumentalness', 'Key', 'Liveness', 'Loudness', 'Mode',\n",
      "       'Speechiness', 'Tempo', 'TSignature', 'Positiveness'],\n",
      "      dtype='object')\n",
      "After Encoding: Index(['Popularity', 'Date', 'Danceability', 'Acousticness', 'duration',\n",
      "       'Energy', 'Instrumentalness', 'Key', 'Liveness', 'Loudness',\n",
      "       ...\n",
      "       'Album Name_SWE', 'Album Name_THA', 'Album Name_TUR', 'Album Name_TWN',\n",
      "       'Album Name_UKR', 'Album Name_URY', 'Album Name_USA', 'Album Name_VEN',\n",
      "       'Album Name_VNM', 'Album Name_ZAF'],\n",
      "      dtype='object', length=370)\n",
      "      Popularity       Date  Danceability  Acousticness  duration  Energy  \\\n",
      "3112         100 2023-09-15         0.750        0.2560    131872  0.7330   \n",
      "3123          98 2023-09-01         0.628        0.7010    172965  0.5230   \n",
      "3094          95 2023-07-28         0.673        0.0856    200256  0.7220   \n",
      "3119          95 2023-06-16         0.847        0.1190    125040  0.6220   \n",
      "3132          95 2023-07-13         0.444        0.9590    222370  0.0911   \n",
      "\n",
      "      Instrumentalness  Key  Liveness  Loudness  ...  Album Name_SWE  \\\n",
      "3112          0.000000    6     0.114    -3.180  ...           False   \n",
      "3123          0.002740   11     0.219    -8.307  ...           False   \n",
      "3094          0.000000    3     0.137    -3.495  ...           False   \n",
      "3119          0.000000    1     0.285    -6.747  ...           False   \n",
      "3132          0.000001    0     0.098   -17.665  ...           False   \n",
      "\n",
      "      Album Name_THA  Album Name_TUR  Album Name_TWN  Album Name_UKR  \\\n",
      "3112           False           False           False           False   \n",
      "3123           False           False           False           False   \n",
      "3094           False           False           False           False   \n",
      "3119           False           False           False           False   \n",
      "3132           False           False           False           False   \n",
      "\n",
      "      Album Name_URY  Album Name_USA  Album Name_VEN  Album Name_VNM  \\\n",
      "3112           False           False           False           False   \n",
      "3123           False           False           False           False   \n",
      "3094           False           False           False           False   \n",
      "3119           False           False           False           False   \n",
      "3132           False           False           False           False   \n",
      "\n",
      "      Album Name_ZAF  \n",
      "3112            True  \n",
      "3123            True  \n",
      "3094            True  \n",
      "3119            True  \n",
      "3132            True  \n",
      "\n",
      "[5 rows x 370 columns]\n",
      "                Popularity      Date  Danceability  Acousticness  duration  \\\n",
      "Popularity        1.000000 -0.007712     -0.042328      0.007305  0.011975   \n",
      "Date             -0.007712  1.000000      0.197892     -0.042365 -0.137467   \n",
      "Danceability     -0.042328  0.197892      1.000000     -0.305066 -0.222531   \n",
      "Acousticness      0.007305 -0.042365     -0.305066      1.000000  0.013324   \n",
      "duration          0.011975 -0.137467     -0.222531      0.013324  1.000000   \n",
      "...                    ...       ...           ...           ...       ...   \n",
      "Album Name_URY    0.013355  0.031538      0.047058     -0.026539 -0.044779   \n",
      "Album Name_USA    0.094533 -0.056761     -0.043748     -0.011308  0.015993   \n",
      "Album Name_VEN    0.072333  0.025660      0.078721     -0.000988  0.005571   \n",
      "Album Name_VNM   -0.053122  0.029835      0.011600      0.088463  0.011238   \n",
      "Album Name_ZAF   -0.072937 -0.003750      0.027627     -0.056593  0.266741   \n",
      "\n",
      "                  Energy  Instrumentalness       Key  Liveness  Loudness  ...  \\\n",
      "Popularity      0.010345         -0.040490 -0.043447  0.008164  0.128850  ...   \n",
      "Date            0.077545         -0.033923 -0.004741  0.022832  0.087128  ...   \n",
      "Danceability    0.266704         -0.058811 -0.007854 -0.099197  0.232696  ...   \n",
      "Acousticness   -0.598454          0.036570  0.027859 -0.047260 -0.472460  ...   \n",
      "duration       -0.104786         -0.003424 -0.064956 -0.025274 -0.094200  ...   \n",
      "...                  ...               ...       ...       ...       ...  ...   \n",
      "Album Name_URY  0.009286         -0.023976  0.025930  0.003925  0.051045  ...   \n",
      "Album Name_USA -0.003774         -0.006251  0.002007  0.012668 -0.011504  ...   \n",
      "Album Name_VEN  0.025770         -0.007288 -0.008769 -0.006466  0.055584  ...   \n",
      "Album Name_VNM -0.088017          0.005659  0.010209 -0.005396 -0.087235  ...   \n",
      "Album Name_ZAF -0.062289          0.090472  0.006108 -0.052348 -0.149833  ...   \n",
      "\n",
      "                Album Name_SWE  Album Name_THA  Album Name_TUR  \\\n",
      "Popularity           -0.046570       -0.021641       -0.028513   \n",
      "Date                  0.017889        0.021450       -0.015318   \n",
      "Danceability         -0.063443       -0.050395       -0.043025   \n",
      "Acousticness          0.070522        0.018640       -0.005610   \n",
      "duration             -0.033747        0.056338       -0.035223   \n",
      "...                        ...             ...             ...   \n",
      "Album Name_URY       -0.014213       -0.014213       -0.014213   \n",
      "Album Name_USA       -0.014213       -0.014213       -0.014213   \n",
      "Album Name_VEN       -0.014068       -0.014068       -0.014068   \n",
      "Album Name_VNM       -0.014213       -0.014213       -0.014213   \n",
      "Album Name_ZAF       -0.014213       -0.014213       -0.014213   \n",
      "\n",
      "                Album Name_TWN  Album Name_UKR  Album Name_URY  \\\n",
      "Popularity           -0.025956       -0.077572        0.013355   \n",
      "Date                 -0.006679        0.007847        0.031538   \n",
      "Danceability         -0.067163        0.030237        0.047058   \n",
      "Acousticness          0.016342        0.009408       -0.026539   \n",
      "duration              0.044364       -0.083941       -0.044779   \n",
      "...                        ...             ...             ...   \n",
      "Album Name_URY       -0.014213       -0.014213        1.000000   \n",
      "Album Name_USA       -0.014213       -0.014213       -0.014213   \n",
      "Album Name_VEN       -0.014068       -0.014068       -0.014068   \n",
      "Album Name_VNM       -0.014213       -0.014213       -0.014213   \n",
      "Album Name_ZAF       -0.014213       -0.014213       -0.014213   \n",
      "\n",
      "                Album Name_USA  Album Name_VEN  Album Name_VNM  Album Name_ZAF  \n",
      "Popularity            0.094533        0.072333       -0.053122       -0.072937  \n",
      "Date                 -0.056761        0.025660        0.029835       -0.003750  \n",
      "Danceability         -0.043748        0.078721        0.011600        0.027627  \n",
      "Acousticness         -0.011308       -0.000988        0.088463       -0.056593  \n",
      "duration              0.015993        0.005571        0.011238        0.266741  \n",
      "...                        ...             ...             ...             ...  \n",
      "Album Name_URY       -0.014213       -0.014068       -0.014213       -0.014213  \n",
      "Album Name_USA        1.000000       -0.014068       -0.014213       -0.014213  \n",
      "Album Name_VEN       -0.014068        1.000000       -0.014068       -0.014068  \n",
      "Album Name_VNM       -0.014213       -0.014068        1.000000       -0.014213  \n",
      "Album Name_ZAF       -0.014213       -0.014068       -0.014213        1.000000  \n",
      "\n",
      "[370 rows x 370 columns]\n"
     ]
    }
   ],
   "source": [
    "\n",
    "print(\"Before Encoding:\", dataframe.columns)\n",
    "df_encoded = pd.get_dummies(dataframe, columns=[\"Country\", \"Markets\", \"Track Name\", \"Artist Name\", \"Album Name\"], drop_first=True)\n",
    "print(\"After Encoding:\", df_encoded.columns)\n",
    "\n"
   ]
  },
  {
   "cell_type": "code",
   "execution_count": null,
   "metadata": {},
   "outputs": [],
   "source": [
    "print(df_encoded.head())"
   ]
  },
  {
   "cell_type": "code",
   "execution_count": null,
   "metadata": {},
   "outputs": [],
   "source": [
    "# Now calculate the correlation matrix\n",
    "correlation_matrix = df_encoded.corr()\n",
    "\n",
    "print(correlation_matrix)"
   ]
  },
  {
   "cell_type": "code",
   "execution_count": 120,
   "metadata": {},
   "outputs": [],
   "source": [
    "# Check for NaN or Infinite values\n",
    "if correlation_matrix.isnull().values.any() or (correlation_matrix == float('inf')).values.any():\n",
    "    print(\"Data contains NaN or Infinite values!\")"
   ]
  },
  {
   "cell_type": "code",
   "execution_count": 121,
   "metadata": {},
   "outputs": [],
   "source": [
    "# from sklearn.preprocessing import StandardScaler\n",
    "\n",
    "# Scale the correlation matrix to have mean 0 and variance 1\n",
    "# scaler = StandardScaler()\n",
    "# correlation_matrix_scaled = scaler.fit_transform(correlation_matrix)\n",
    "\n",
    "# plt.figure(figsize=(12, 6))\n",
    "# sns.heatmap(correlation_matrix_scaled, annot=False, cmap=\"coolwarm\")\n",
    "# plt.title(\"Scaled Feature Correlation Heatmap\")\n",
    "# plt.xticks(rotation=45, ha=\"right\")\n",
    "# plt.yticks(rotation=0, va=\"center\")\n",
    "# plt.show()\n"
   ]
  },
  {
   "cell_type": "code",
   "execution_count": null,
   "metadata": {},
   "outputs": [
    {
     "data": {
      "image/png": "[encoded data removed]",
      "text/plain": [
       "<Figure size 1800x400 with 2 Axes>"
      ]
     },
     "metadata": {},
     "output_type": "display_data"
    }
   ],
   "source": [
    "# Select only numeric columns for correlation calculation\n",
    "numeric_columns = dataframe.select_dtypes(include=[\"float64\", \"int64\", \"datetime\"]).columns\n",
    "\n",
    "\n",
    "# Compute the correlation matrix for the numeric columns\n",
    "correlation_matrix = dataframe[numeric_columns].corr()\n",
    "\n",
    "\n",
    "# Extract the correlation of 'Popularity' with all other columns\n",
    "popularity_corr = correlation_matrix[\"Popularity\"].drop(\"Popularity\")\n",
    "\n",
    "\n",
    "# Reshape the data to make it suitable for a heatmap\n",
    "popularity_corr = popularity_corr.to_frame()  # Convert to a DataFrame for better plotting\n",
    "\n",
    "# Sort correlations by absolute value\n",
    "popularity_corr = popularity_corr.sort_values(by='Popularity', ascending=False, key=lambda col: col.abs())\n",
    "\n",
    "# Plot the heatmap\n",
    "plt.figure(figsize=(18, 4))\n",
    "sns.heatmap(popularity_corr.T, annot=True, cmap=\"coolwarm\", fmt=\".2f\", linewidths=0.5)\n",
    "plt.title(\"Correlation with Popularity\")\n",
    "plt.show()\n",
    "\n",
    "\n",
    "# Plot the correlation matrix\n",
    "# plt.figure(figsize=(120, 60))\n",
    "# sns.heatmap(popularity_corr.T, annot=False, cmap=\"coolwarm\", vmin = -0.3, vmax=0.3)\n",
    "# plt.title(\"Feature Correlation Heatmap\")\n",
    "# plt.xticks(rotation=45, ha=\"right\")\n",
    "# plt.yticks(rotation=0, va=\"center\")\n",
    "# plt.show()\n"
   ]
  },
  {
   "cell_type": "code",
   "execution_count": null,
   "metadata": {},
   "outputs": [],
   "source": []
  },
  {
   "cell_type": "code",
   "execution_count": 123,
   "metadata": {},
   "outputs": [],
   "source": [
    "# Calculating the correlation of column A against all others\n",
    "# corr_matrix = dataframe.corr()['A']\n",
    "\n",
    "\n",
    "# f: https://www.geeksforgeeks.org/python-pandas-dataframe-corr/\n",
    "# To find the correlation among\n",
    "# the columns using pearson method\n",
    "# dataframe.corr(method='pearson')\n",
    "\n"
   ]
  }
 ],
 "metadata": {
  "kernelspec": {
   "display_name": "usr",
   "language": "python",
   "name": "python3"
  },
  "language_info": {
   "codemirror_mode": {
    "name": "ipython",
    "version": 3
   },
   "file_extension": ".py",
   "mimetype": "text/x-python",
   "name": "python",
   "nbconvert_exporter": "python",
   "pygments_lexer": "ipython3",
   "version": "3.12.3"
  }
 },
 "nbformat": 4,
 "nbformat_minor": 2
}
